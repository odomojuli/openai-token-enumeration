{
 "cells": [
  {
   "cell_type": "code",
   "execution_count": 9,
   "metadata": {},
   "outputs": [],
   "source": [
    "import tiktoken\n",
    "import sys\n",
    "\n",
    "enc = tiktoken.get_encoding(\"cl100k_base\")\n",
    "assert enc.decode(enc.encode(\"hello world\")) == \"hello world\"\n",
    "\n",
    "# To get the tokeniser corresponding to a specific model in the OpenAI API:\n",
    "enc = tiktoken.encoding_for_model(\"gpt-4\")\n",
    "\n",
    "stdoutOrigin=sys.stdout \n",
    "sys.stdout = open(\"gpt-4.txt\", \"w\")\n",
    "\n",
    "# Special tokens list\n",
    "# https://github.com/openai/tiktoken/blob/ec7c121e385bf1675312c6c33734de6b392890c4/tiktoken_ext/openai_public.py\n",
    "special_tokens = [100257,100258,100259,100260,100276]\n",
    "for i in range(100256):\n",
    "    stdoutOrigin.write(str(enc.decode_tokens_bytes([i]))+\"\\n\")\n",
    "for i in special_tokens:\n",
    "    stdoutOrigin.write(str(enc.decode_tokens_bytes([i]))+\"\\n\")\n",
    "stdoutOrigin.close()"
   ]
  },
  {
   "cell_type": "code",
   "execution_count": 10,
   "metadata": {},
   "outputs": [],
   "source": [
    "import tiktoken\n",
    "import sys\n",
    "\n",
    "enc = tiktoken.get_encoding(\"cl100k_base\")\n",
    "assert enc.decode(enc.encode(\"hello world\")) == \"hello world\"\n",
    "\n",
    "# To get the tokeniser corresponding to a specific model in the OpenAI API:\n",
    "enc = tiktoken.encoding_for_model(\"gpt-3.5-turbo\")\n",
    "\n",
    "stdoutOrigin=sys.stdout \n",
    "sys.stdout = open(\"gpt-3.5-turbo.txt\", \"w\")\n",
    "\n",
    "# Special tokens list\n",
    "# https://github.com/openai/tiktoken/blob/ec7c121e385bf1675312c6c33734de6b392890c4/tiktoken_ext/openai_public.py\n",
    "special_tokens = [100257,100258,100259,100260,100276]\n",
    "for i in range(100256):\n",
    "    stdoutOrigin.write(str(enc.decode_tokens_bytes([i]))+\"\\n\")\n",
    "for i in special_tokens:\n",
    "    stdoutOrigin.write(str(enc.decode_tokens_bytes([i]))+\"\\n\")\n",
    "stdoutOrigin.close()"
   ]
  }
 ],
 "metadata": {
  "kernelspec": {
   "display_name": "Python 3",
   "language": "python",
   "name": "python3"
  },
  "language_info": {
   "codemirror_mode": {
    "name": "ipython",
    "version": 3
   },
   "file_extension": ".py",
   "mimetype": "text/x-python",
   "name": "python",
   "nbconvert_exporter": "python",
   "pygments_lexer": "ipython3",
   "version": "3.11.2"
  },
  "orig_nbformat": 4
 },
 "nbformat": 4,
 "nbformat_minor": 2
}
